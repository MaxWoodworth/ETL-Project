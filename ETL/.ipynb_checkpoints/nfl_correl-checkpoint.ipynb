{
 "cells": [
  {
   "cell_type": "code",
   "execution_count": 11,
   "metadata": {},
   "outputs": [],
   "source": [
    "#import dependicies\n",
    "import pandas as pd"
   ]
  },
  {
   "cell_type": "code",
   "execution_count": 12,
   "metadata": {},
   "outputs": [],
   "source": [
    "#EXTRACT\n",
    "#read raw data csv's\n",
    "sb_data = \"../resources/superbowl.csv\"\n",
    "sb_df = pd.read_csv(sb_data)\n",
    "\n",
    "odds_data = \"../resources/odds.csv\"\n",
    "odds_df = pd.read_csv(odds_data)"
   ]
  },
  {
   "cell_type": "code",
   "execution_count": 13,
   "metadata": {
    "scrolled": true
   },
   "outputs": [],
   "source": [
    "#tested dfs by printing heads\n",
    "#sb_df.head()\n",
    "#odds_df.head()"
   ]
  },
  {
   "cell_type": "raw",
   "metadata": {},
   "source": [
    "#TRANSFORM\n",
    "#Clean df's to contain only needed information\n",
    "new_odds_df = odds_df.loc[['schedule_season','team_home','score_home','score_away','team_away', 'spread_favorite', ]]"
   ]
  },
  {
   "cell_type": "code",
   "execution_count": 30,
   "metadata": {},
   "outputs": [
    {
     "data": {
      "text/html": [
       "<div>\n",
       "<style scoped>\n",
       "    .dataframe tbody tr th:only-of-type {\n",
       "        vertical-align: middle;\n",
       "    }\n",
       "\n",
       "    .dataframe tbody tr th {\n",
       "        vertical-align: top;\n",
       "    }\n",
       "\n",
       "    .dataframe thead th {\n",
       "        text-align: right;\n",
       "    }\n",
       "</style>\n",
       "<table border=\"1\" class=\"dataframe\">\n",
       "  <thead>\n",
       "    <tr style=\"text-align: right;\">\n",
       "      <th></th>\n",
       "      <th>schedule_season</th>\n",
       "      <th>team_home</th>\n",
       "      <th>score_home</th>\n",
       "      <th>score_away</th>\n",
       "      <th>team_away</th>\n",
       "      <th>over_under_line</th>\n",
       "    </tr>\n",
       "  </thead>\n",
       "  <tbody>\n",
       "    <tr>\n",
       "      <th>350</th>\n",
       "      <td>1967</td>\n",
       "      <td>Green Bay Packers</td>\n",
       "      <td>33.0</td>\n",
       "      <td>14.0</td>\n",
       "      <td>Oakland Raiders</td>\n",
       "      <td>43</td>\n",
       "    </tr>\n",
       "    <tr>\n",
       "      <th>538</th>\n",
       "      <td>1968</td>\n",
       "      <td>Baltimore Colts</td>\n",
       "      <td>7.0</td>\n",
       "      <td>16.0</td>\n",
       "      <td>New York Jets</td>\n",
       "      <td>40</td>\n",
       "    </tr>\n",
       "    <tr>\n",
       "      <th>727</th>\n",
       "      <td>1969</td>\n",
       "      <td>Kansas City Chiefs</td>\n",
       "      <td>23.0</td>\n",
       "      <td>7.0</td>\n",
       "      <td>Minnesota Vikings</td>\n",
       "      <td>39</td>\n",
       "    </tr>\n",
       "    <tr>\n",
       "      <th>916</th>\n",
       "      <td>1970</td>\n",
       "      <td>Baltimore Colts</td>\n",
       "      <td>16.0</td>\n",
       "      <td>13.0</td>\n",
       "      <td>Dallas Cowboys</td>\n",
       "      <td>36</td>\n",
       "    </tr>\n",
       "    <tr>\n",
       "      <th>1105</th>\n",
       "      <td>1971</td>\n",
       "      <td>Dallas Cowboys</td>\n",
       "      <td>24.0</td>\n",
       "      <td>3.0</td>\n",
       "      <td>Miami Dolphins</td>\n",
       "      <td>34</td>\n",
       "    </tr>\n",
       "  </tbody>\n",
       "</table>\n",
       "</div>"
      ],
      "text/plain": [
       "      schedule_season           team_home  score_home  score_away  \\\n",
       "350              1967   Green Bay Packers        33.0        14.0   \n",
       "538              1968     Baltimore Colts         7.0        16.0   \n",
       "727              1969  Kansas City Chiefs        23.0         7.0   \n",
       "916              1970     Baltimore Colts        16.0        13.0   \n",
       "1105             1971      Dallas Cowboys        24.0         3.0   \n",
       "\n",
       "              team_away over_under_line  \n",
       "350     Oakland Raiders              43  \n",
       "538       New York Jets              40  \n",
       "727   Minnesota Vikings              39  \n",
       "916      Dallas Cowboys              36  \n",
       "1105     Miami Dolphins              34  "
      ]
     },
     "execution_count": 30,
     "metadata": {},
     "output_type": "execute_result"
    }
   ],
   "source": [
    "#TRANSFORM\n",
    "#Clean df's to contain only needed information\n",
    "new_odds_df = odds_df.loc[:, ['schedule_season','team_home','score_home','score_away','team_away', 'over_under_line']]\n",
    "clean_odds_df = new_odds_df.dropna()\n",
    "clean_odds_df.head()\n",
    "clean_odds.head()\n",
    "#sum_odds_df = "
   ]
  },
  {
   "cell_type": "code",
   "execution_count": null,
   "metadata": {},
   "outputs": [],
   "source": []
  },
  {
   "cell_type": "code",
   "execution_count": null,
   "metadata": {},
   "outputs": [],
   "source": []
  },
  {
   "cell_type": "code",
   "execution_count": null,
   "metadata": {},
   "outputs": [],
   "source": []
  }
 ],
 "metadata": {
  "kernelspec": {
   "display_name": "Python 3",
   "language": "python",
   "name": "python3"
  },
  "language_info": {
   "codemirror_mode": {
    "name": "ipython",
    "version": 3
   },
   "file_extension": ".py",
   "mimetype": "text/x-python",
   "name": "python",
   "nbconvert_exporter": "python",
   "pygments_lexer": "ipython3",
   "version": "3.8.3"
  }
 },
 "nbformat": 4,
 "nbformat_minor": 4
}
